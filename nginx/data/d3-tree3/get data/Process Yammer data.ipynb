{
 "cells": [
  {
   "cell_type": "code",
   "execution_count": 9,
   "metadata": {
    "collapsed": false
   },
   "outputs": [],
   "source": [
    "#Load in the data saved from the API\n",
    "import json\n",
    "with open('allrelationships.json') as data_file:    \n",
    "    r_data = json.load(data_file)\n",
    "\n",
    "with open('allusers.json') as data_file:    \n",
    "    u_data = json.load(data_file)\n",
    "    \n",
    "with open('allactivity.json') as data_file:    \n",
    "    a_data = json.load(data_file)\n",
    "    \n",
    "a_data = {i[\"id\"]: i for i in a_data}"
   ]
  },
  {
   "cell_type": "code",
   "execution_count": 10,
   "metadata": {
    "collapsed": false
   },
   "outputs": [],
   "source": [
    "#Flatten the data structure of the users data\n",
    "not_found = 0\n",
    "for u in u_data:\n",
    "    u[\"phone_numbers\"] = \", \".join([i[\"number\"] for i in u[\"contact\"][\"phone_numbers\"]])\n",
    "    u[\"email_address\"] = u[\"contact\"][\"email_addresses\"][0][\"address\"]   \n",
    "    try:\n",
    "        u[\"messages_in_last_180_days\"] =a_data[str(u[\"id\"])][\"messages_in_last_180_days\"]\n",
    "        u[\"all_messages\"] =a_data[str(u[\"id\"])][\"all_messages\"]\n",
    "    except:\n",
    "        not_found += 1"
   ]
  },
  {
   "cell_type": "code",
   "execution_count": 11,
   "metadata": {
    "collapsed": false
   },
   "outputs": [],
   "source": [
    "#Add activity data into user data\n",
    "for count, item in enumerate(r_data):\n",
    "    item[\"individual\"] = u_data[count]"
   ]
  },
  {
   "cell_type": "code",
   "execution_count": 12,
   "metadata": {
    "collapsed": true
   },
   "outputs": [],
   "source": [
    "fields_to_retain = [\"id\", \"full_name\", \"job_title\", \"summary\", \"web_url\", \"interests\", \"mugshot_url_template\", \"phone_numbers\",\"email_address\",\"messages_in_last_180_days\",\"all_messages\"]"
   ]
  },
  {
   "cell_type": "code",
   "execution_count": 13,
   "metadata": {
    "collapsed": true
   },
   "outputs": [],
   "source": [
    "#Tidy up the data from the relationship API to keep only the bits we need\n",
    "def mapper(x):\n",
    "    try:\n",
    "        superior = x[\"superiors\"][0][\"id\"]\n",
    "    except:\n",
    "        superior = None\n",
    "        \n",
    "    return_dict = {}\n",
    "    \n",
    "    return_dict[\"parent\"] = superior\n",
    "    for i in fields_to_retain:\n",
    "        return_dict[i] = x[\"individual\"][i]\n",
    "        \n",
    "        if i == \"full_name\":\n",
    "            return_dict[i] = return_dict[i].title()\n",
    "            \n",
    "        if i == \"mugshot_url_template\":\n",
    "            return_dict[i] = return_dict[i].replace(\"{width}\", \"200\")\n",
    "            return_dict[i] = return_dict[i].replace(\"{height}\", \"200\")\n",
    "            \n",
    "    \n",
    "    return return_dict\n",
    "        \n",
    "r_data2 = map(mapper, r_data)"
   ]
  },
  {
   "cell_type": "code",
   "execution_count": 14,
   "metadata": {
    "collapsed": true
   },
   "outputs": [],
   "source": [
    "#We're going to start with a dict which has a key for each user.  THis isn't really a tree yet\n",
    "#but it will become one\n",
    "\n",
    "##We then go through the dict one item at a time, 'tidying' leaf nodes into their parents and iterate\n",
    "\n",
    "#No doubt there's a much for efficient way of doing this.\n",
    "\n",
    "tree = {}\n",
    "for d in r_data2:\n",
    "    contents = {}\n",
    "    contents[\"parent\"] = d[\"parent\"]\n",
    "    contents[\"children\"] = None\n",
    "    \n",
    "    for i in fields_to_retain:\n",
    "        contents[i] = d[i]\n",
    "    tree[d[\"id\"]] = contents\n",
    "\n",
    "\n",
    "parents = set([d[\"parent\"] for d  in r_data2])"
   ]
  },
  {
   "cell_type": "code",
   "execution_count": 15,
   "metadata": {
    "collapsed": true
   },
   "outputs": [],
   "source": [
    "#Roll up any item that isn't a parent and iterate\n",
    "old_tree = tree.copy()\n",
    "\n",
    "for i in range(1,20):\n",
    "    new_tree = old_tree.copy()\n",
    "\n",
    "    for key, value in old_tree.iteritems():\n",
    "        #If the item isn't a parent (i.e. is a leaf) roll into node above\n",
    "\n",
    "        #the key is the id\n",
    "\n",
    "        if key not in parents and value[\"parent\"]:  #If it's a leaf and it has a parent \n",
    "            \n",
    "            if not new_tree[value[\"parent\"]][\"children\"]:\n",
    "                new_tree[value[\"parent\"]][\"children\"] = []\n",
    "                \n",
    "            \n",
    "            new_tree[value[\"parent\"]][\"children\"].append(value)\n",
    "            new_tree[value[\"parent\"]][\"children\"].sort(key=lambda x: x[\"full_name\"])\n",
    "            del new_tree[key]\n",
    "\n",
    "    old_tree = new_tree.copy()\n",
    "\n",
    "    parents = set()\n",
    "    for key in old_tree:\n",
    "        parents.add(old_tree[key][\"parent\"])\n",
    "\n",
    "#print json.dumps(new_tree,indent=4, sort_keys=True)"
   ]
  },
  {
   "cell_type": "code",
   "execution_count": 16,
   "metadata": {
    "collapsed": false
   },
   "outputs": [],
   "source": [
    "#The previous step will produce multiple trees if there are some staff who haven't put in their line manager\n",
    "\n",
    "#Extract the 'main' tree - i.e. the one with the CEO at the head:\n",
    "\n",
    "\n",
    "def count_members(tree,id):\n",
    "    total = {'id': id, 'count':1}\n",
    "    \n",
    "    def count_recurse(node):\n",
    "       \n",
    "        if node[\"children\"]:\n",
    "            for c in node[\"children\"]:\n",
    "                total[\"count\"]+=1\n",
    "                count_recurse(c)\n",
    "    \n",
    "    count_recurse(tree)\n",
    "    \n",
    "    return total\n",
    "            \n",
    "\n",
    "biggest_trees = []\n",
    "for key in new_tree:\n",
    "    biggest_trees.append(count_members(new_tree[key], key))\n",
    "    \n",
    "biggest_trees = sorted(biggest_trees, key=lambda x: x[\"count\"], reverse=True)\n",
    "     \n",
    "biggest_id = biggest_trees[0][\"id\"]\n",
    "\n",
    "main_tree = new_tree[biggest_id]\n",
    "\n"
   ]
  },
  {
   "cell_type": "code",
   "execution_count": 17,
   "metadata": {
    "collapsed": true
   },
   "outputs": [],
   "source": [
    "#We also might want a flat version of the main tree\n",
    "main_tree_nodes = []\n",
    "\n",
    "def add_children(node):\n",
    "    if node[\"children\"]:\n",
    "        for child in node[\"children\"]:\n",
    "            main_tree_nodes.append({\"parent\": node[\"id\"], \"id\": child[\"id\"]})\n",
    "            add_children(child)\n",
    "            \n",
    "main_tree_nodes.append({\"parent\": None, \"id\": main_tree[\"id\"]})\n",
    "add_children(main_tree)\n",
    "    \n",
    "main_tree_nodes\n",
    "main_tree_ids = [i[\"id\"] for i in main_tree_nodes]"
   ]
  },
  {
   "cell_type": "code",
   "execution_count": 18,
   "metadata": {
    "collapsed": true
   },
   "outputs": [],
   "source": [
    "#ALso need data that for the select/search box in the app\n",
    "select_box = []\n",
    "for u in u_data:\n",
    "    \n",
    "    if u[\"id\"] not in main_tree_ids:\n",
    "        continue\n",
    "    d = {}\n",
    "    d[\"id\"] = u[\"id\"]\n",
    "    d[\"text\"] = \"\"\n",
    "    if u[\"full_name\"]:\n",
    "            d[\"text\"] += u[\"full_name\"].title()\n",
    "            \n",
    "            if u[\"job_title\"]:\n",
    "                d[\"text\"] += \" \" +u[\"job_title\"].title()\n",
    "\n",
    "\n",
    "        \n",
    "            \n",
    "            select_box.append(d)\n",
    "\n",
    "        \n",
    "select_box.sort(key=lambda x: x[\"text\"])"
   ]
  },
  {
   "cell_type": "code",
   "execution_count": 20,
   "metadata": {
    "collapsed": true
   },
   "outputs": [],
   "source": [
    "final_data = {\"tree\": new_tree[biggest_id], \"select_box\":select_box} #Insert id of CEO here"
   ]
  },
  {
   "cell_type": "code",
   "execution_count": 21,
   "metadata": {
    "collapsed": false
   },
   "outputs": [],
   "source": [
    "import json\n",
    "with open('../website/data/orgchart_datadelete.json', 'w') as outfile:\n",
    "    json.dump(final_data, outfile)"
   ]
  }
 ],
 "metadata": {
  "kernelspec": {
   "display_name": "Python 2",
   "language": "python",
   "name": "python2"
  },
  "language_info": {
   "codemirror_mode": {
    "name": "ipython",
    "version": 2
   },
   "file_extension": ".py",
   "mimetype": "text/x-python",
   "name": "python",
   "nbconvert_exporter": "python",
   "pygments_lexer": "ipython2",
   "version": "2.7.6"
  }
 },
 "nbformat": 4,
 "nbformat_minor": 0
}
