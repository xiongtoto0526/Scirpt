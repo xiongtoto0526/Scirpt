{
 "cells": [
  {
   "cell_type": "code",
   "execution_count": 1,
   "metadata": {
    "collapsed": false
   },
   "outputs": [],
   "source": [
    "import pandas as pd\n",
    "import math\n",
    "df = pd.read_csv(\"random_data_flat_file.csv\")\n",
    "df[\"parent\"] = df[\"parent\"].fillna(\"\")"
   ]
  },
  {
   "cell_type": "code",
   "execution_count": 2,
   "metadata": {
    "collapsed": false
   },
   "outputs": [],
   "source": [
    "fields_to_retain = [\"colour\", \"email_address\", \"full_name\", \"id\", \"job_title\", \"parent\", \"phone_numbers\", \"statistic_1\", \"statistic_2\", \"summary\", \"web_url\", \"mugshot_url_template\"]"
   ]
  },
  {
   "cell_type": "code",
   "execution_count": 3,
   "metadata": {
    "collapsed": false
   },
   "outputs": [],
   "source": [
    "data = df.to_dict(orient=\"records\")"
   ]
  },
  {
   "cell_type": "code",
   "execution_count": 4,
   "metadata": {
    "collapsed": false
   },
   "outputs": [],
   "source": [
    "#We're going to start with a dict which has a key for each user.  This isn't really a tree yet\n",
    "#but it will become one\n",
    "\n",
    "#We then go through the dict one item at a time, 'tidying' leaf nodes into their parents and iterate\n",
    "\n",
    "#No doubt there's a much for efficient way of doing this.\n",
    "\n",
    "tree = {}\n",
    "for record in data:\n",
    "    contents = {}\n",
    "    contents[\"parent\"] = record[\"parent\"]\n",
    "    contents[\"children\"] = None\n",
    "    \n",
    "    for i in fields_to_retain:\n",
    "        contents[i] = record[i]\n",
    "    tree[record[\"id\"]] = contents"
   ]
  },
  {
   "cell_type": "code",
   "execution_count": 5,
   "metadata": {
    "collapsed": false
   },
   "outputs": [],
   "source": [
    "#A set of all the parents\n",
    "parents = set([r[\"parent\"] for r in data])"
   ]
  },
  {
   "cell_type": "code",
   "execution_count": 6,
   "metadata": {
    "collapsed": false
   },
   "outputs": [],
   "source": [
    "#Roll up any item that isn't a parent and iterate\n",
    "old_tree = tree.copy()\n",
    "\n",
    "for i in range(1,20):\n",
    "    new_tree = old_tree.copy()\n",
    "\n",
    "    for key, value in old_tree.iteritems():  #The key is the id and the value is all of the data\n",
    "        #If the item isn't a parent (i.e. is a leaf) roll into node above\n",
    "        \n",
    "        #If no parent then skip:\n",
    "        if type(value[\"parent\"]) == float and math.isnan(value[\"parent\"]):  #i.e. it's nan\n",
    "            continue\n",
    "        \n",
    "        if value[\"parent\"] == \"\":\n",
    "            continue\n",
    "            \n",
    "\n",
    "        if key not in parents and value[\"parent\"]:  #If it's a leaf and it has a parent \n",
    "            \n",
    "            if not new_tree[value[\"parent\"]][\"children\"]:\n",
    "                new_tree[value[\"parent\"]][\"children\"] = []\n",
    "                \n",
    "            \n",
    "            new_tree[value[\"parent\"]][\"children\"].append(value)\n",
    "            new_tree[value[\"parent\"]][\"children\"].sort(key=lambda x: x[\"full_name\"])\n",
    "            del new_tree[key]\n",
    "\n",
    "    old_tree = new_tree.copy()\n",
    "\n",
    "    parents = set()\n",
    "    for key in old_tree:\n",
    "        parents.add(old_tree[key][\"parent\"])"
   ]
  },
  {
   "cell_type": "code",
   "execution_count": 7,
   "metadata": {
    "collapsed": false
   },
   "outputs": [],
   "source": [
    "#ALso need data that for the select/search box in the app\n",
    "\n",
    "df[\"text\"] = df[\"full_name\"] + \", \" + df[\"job_title\"]\n",
    "\n",
    "df2 = df[[\"id\",\"text\"]]\n",
    "select_box = df2.to_dict(orient=\"records\")\n",
    "        \n",
    "select_box.sort(key=lambda x: x[\"text\"])"
   ]
  },
  {
   "cell_type": "code",
   "execution_count": 8,
   "metadata": {
    "collapsed": true
   },
   "outputs": [],
   "source": [
    "final_data = {\"tree\": new_tree[new_tree.keys()[0]], \"select_box\":select_box} #Insert id of CEO here"
   ]
  },
  {
   "cell_type": "code",
   "execution_count": 9,
   "metadata": {
    "collapsed": false
   },
   "outputs": [],
   "source": [
    "import json\n",
    "with open('../website/data/orgchart_data.json', 'w') as outfile:\n",
    "    json.dump(final_data, outfile)"
   ]
  }
 ],
 "metadata": {
  "kernelspec": {
   "display_name": "Python 2",
   "language": "python",
   "name": "python2"
  },
  "language_info": {
   "codemirror_mode": {
    "name": "ipython",
    "version": 2
   },
   "file_extension": ".py",
   "mimetype": "text/x-python",
   "name": "python",
   "nbconvert_exporter": "python",
   "pygments_lexer": "ipython2",
   "version": "2.7.6"
  }
 },
 "nbformat": 4,
 "nbformat_minor": 0
}
