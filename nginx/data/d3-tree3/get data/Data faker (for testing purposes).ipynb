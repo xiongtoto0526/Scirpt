{
 "cells": [
  {
   "cell_type": "code",
   "execution_count": 1,
   "metadata": {
    "collapsed": true
   },
   "outputs": [],
   "source": [
    "#Produces some data that allows you to test the interactive chart without using data\n",
    "from faker import Faker\n",
    "fake = Faker()"
   ]
  },
  {
   "cell_type": "code",
   "execution_count": 2,
   "metadata": {
    "collapsed": false
   },
   "outputs": [],
   "source": [
    "import json\n",
    "with open('random_images.json') as data_file:    \n",
    "    random_images = json.load(data_file)"
   ]
  },
  {
   "cell_type": "code",
   "execution_count": 3,
   "metadata": {
    "collapsed": false
   },
   "outputs": [],
   "source": [
    "import requests\n",
    "import json\n",
    "import random\n",
    "\n",
    "def create_node():\n",
    "    node = {}\n",
    "    node[\"full_name\"] = fake.name()\n",
    "    node[\"email_address\"] = fake.email()\n",
    "    node[\"phone_numbers\"] = fake.phone_number()\n",
    "    node[\"id\"] = fake.md5()\n",
    "    node[\"summary\"] = fake.text()\n",
    "    node[\"job_title\"] = fake.job()\n",
    "    node[\"web_url\"] = fake.url()\n",
    "    \n",
    "    node[\"colour\"] = fake.safe_hex_color()\n",
    "    \n",
    "    node[\"statistic_1\"] = fake.random_number(3)\n",
    "    node[\"statistic_2\"] = fake.random_number(1)\n",
    "    \n",
    "    node[\"mugshot_url_template\"] = \"http://lorempixel.com/200/200\"\n",
    "    #If you have access to a list of images you can use this:\n",
    "    node[\"mugshot_url_template\"] = random.choice(random_images)[\"image_urls\"][\"epic\"]\n",
    "    \n",
    "    \n",
    "\n",
    "    return node\n",
    "root = create_node()"
   ]
  },
  {
   "cell_type": "code",
   "execution_count": 4,
   "metadata": {
    "collapsed": true
   },
   "outputs": [],
   "source": [
    "root = create_node()\n",
    "import numpy as np\n",
    "import random\n",
    "\n",
    "from scipy import stats\n",
    "\n",
    "def create_random_children(node,depth):\n",
    "    \n",
    "    num_children = np.random.binomial(8-depth, 0.6, 1)[0]\n",
    "    \n",
    "    node[\"children\"] = []\n",
    "    \n",
    "    for i in range(num_children):\n",
    "        this_node = create_node()\n",
    "        node[\"children\"].append(this_node)\n",
    "    \n",
    "    for node in node[\"children\"]:\n",
    "        create_random_children(node, depth+1)\n",
    "        \n",
    "create_random_children(root,1)"
   ]
  },
  {
   "cell_type": "code",
   "execution_count": 5,
   "metadata": {
    "collapsed": true
   },
   "outputs": [],
   "source": [
    "\n",
    "#ALso need data that for the select box\n",
    "select_box = []\n",
    "\n",
    "\n",
    "def add_to_select_box(node):\n",
    "\n",
    "    new_item = {}\n",
    "    new_item[\"id\"] = node[\"id\"]\n",
    "    new_item[\"text\"] =  node[\"full_name\"] + \" \" +node[\"job_title\"]\n",
    "    select_box.append(new_item)\n",
    "    \n",
    "    if \"children\" in node:\n",
    "        for c in node[\"children\"]:\n",
    "            add_to_select_box(c)\n",
    "\n",
    "\n",
    "#Iterate through the nodes, adding to select box\n",
    "\n",
    "add_to_select_box(root)    \n",
    "select_box.sort(key=lambda x: x[\"text\"])"
   ]
  },
  {
   "cell_type": "code",
   "execution_count": 6,
   "metadata": {
    "collapsed": true
   },
   "outputs": [],
   "source": [
    "final_data = {\"tree\": root, \"select_box\":select_box}"
   ]
  },
  {
   "cell_type": "code",
   "execution_count": 7,
   "metadata": {
    "collapsed": false
   },
   "outputs": [],
   "source": [
    "flat = []\n",
    "\n",
    "def flatten(tree):\n",
    "    \"\"\"\n",
    "    Recursively iterate through tree adding rows to the flat array\n",
    "    \"\"\"\n",
    "\n",
    "    def next_node(node, parent_id):\n",
    "        \n",
    "        this_row = {}\n",
    "        \n",
    "        this_row[\"parent\"] = parent_id\n",
    "        \n",
    "        this_row[\"full_name\"] = node[\"full_name\"]\n",
    "        this_row[\"email_address\"] = node[\"email_address\"]\n",
    "        this_row[\"phone_numbers\"] = node[\"phone_numbers\"]\n",
    "        this_row[\"id\"] = node[\"id\"]\n",
    "        this_row[\"summary\"] = node[\"summary\"]\n",
    "        this_row[\"job_title\"] = node[\"job_title\"]\n",
    "        this_row[\"web_url\"] = node[\"web_url\"]\n",
    "        this_row[\"colour\"] = node[\"colour\"]\n",
    "        this_row[\"mugshot_url_template\"] = node[\"mugshot_url_template\"]\n",
    "        \n",
    "        this_row[\"statistic_1\"] = node[\"statistic_1\"] \n",
    "        this_row[\"statistic_2\"] = node[\"statistic_2\"] \n",
    "        \n",
    "        flat.append(this_row)\n",
    "        \n",
    "        for child in node[\"children\"]:\n",
    "            next_node(child, node[\"id\"])\n",
    "    \n",
    "    next_node(tree, \"\")\n",
    "    \n",
    "flatten(root)\n",
    "        \n",
    "import pandas as pd\n",
    "df = pd.DataFrame(flat)\n",
    "df.to_csv(\"faked_data_flat_file.csv\", encoding=\"utf-8\", index=False)"
   ]
  },
  {
   "cell_type": "code",
   "execution_count": null,
   "metadata": {
    "collapsed": true
   },
   "outputs": [],
   "source": []
  }
 ],
 "metadata": {
  "kernelspec": {
   "display_name": "Python 2",
   "language": "python",
   "name": "python2"
  },
  "language_info": {
   "codemirror_mode": {
    "name": "ipython",
    "version": 2
   },
   "file_extension": ".py",
   "mimetype": "text/x-python",
   "name": "python",
   "nbconvert_exporter": "python",
   "pygments_lexer": "ipython2",
   "version": "2.7.6"
  }
 },
 "nbformat": 4,
 "nbformat_minor": 0
}
