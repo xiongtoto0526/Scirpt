{
 "cells": [
  {
   "cell_type": "code",
   "execution_count": null,
   "metadata": {
    "collapsed": true
   },
   "outputs": [],
   "source": [
    "import requests\n",
    "import json\n",
    "import re"
   ]
  },
  {
   "cell_type": "code",
   "execution_count": null,
   "metadata": {
    "collapsed": true
   },
   "outputs": [],
   "source": [
    "header = {'Authorization': 'Bearer 000000-test'} #Your auth goes here, see https://developer.yammer.com/docs/authentication-1"
   ]
  },
  {
   "cell_type": "code",
   "execution_count": null,
   "metadata": {
    "collapsed": false
   },
   "outputs": [],
   "source": [
    "all_users = []\n",
    "for i in range(1,31):  #modify range depending on how many users your organisation has \n",
    "    r = requests.get(r'https://www.yammer.com/api/v1/users.json?page={}'.format(i), headers=header )\n",
    "    e = json.loads(r.text)\n",
    "    all_users.extend(e)"
   ]
  },
  {
   "cell_type": "code",
   "execution_count": null,
   "metadata": {
    "collapsed": true
   },
   "outputs": [],
   "source": [
    "with open('allusers.json', 'w') as outfile:\n",
    "    json.dump(all_users, outfile)"
   ]
  },
  {
   "cell_type": "code",
   "execution_count": null,
   "metadata": {
    "collapsed": false
   },
   "outputs": [],
   "source": [
    "#This produces a very rough measure of user activity.  \n",
    "\n",
    "#As far as I can tell, there's no easy way of asking\n",
    "#the api how many messages/interactions the user has \n",
    "#has in the past x days\n",
    "\n",
    "\n",
    "import re\n",
    "from dateutil.parser import parse\n",
    "import datetime\n",
    "from time import sleep\n",
    "activity_counts = []\n",
    "for count, user in enumerate(all_users):\n",
    "    id = str(user[\"id\"])\n",
    "    r = requests.get(r'https://www.yammer.com/api/v1/messages/from_user/{}.json?limit=10000&threaded=extended&exclude_own_messages_from_unseen=false'.format(id), headers=header )\n",
    "    \n",
    "    found = re.findall(r'\"sender_id\"\\:' + id +  '.{1,100}\"network_id\"', r.text)\n",
    "    found = [json.loads(\"{\" + i + ': \"1\" }') for i in found]\n",
    "    today = datetime.datetime.today().date()\n",
    "    found = [parse(i[\"created_at\"]).date() for i in found]\n",
    "    found_six_months = [i for i in found if (today - i) < datetime.timedelta(days=180)]\n",
    "    \n",
    "    foundall = re.findall(r'\"sender_id\"\\:' + str(id), r.text)\n",
    "\n",
    "    activity_counts.append({\"id\":id, \"full_name\": user[\"full_name\"], \"messages_in_last_180_days\": len(found_six_months), \"all_messages\":len(foundall) })\n",
    "    print (count,{\"id\":id, \"full_name\": user[\"full_name\"], \"messages_in_last_180_days\": len(found_six_months), \"all_messages\": len(foundall)})\n",
    "              \n",
    "    \n",
    "        \n",
    "    sleep(1) #To prevent being banned for exceeding the rate limit\n",
    "\n",
    "with open('allactivity.json', 'w') as outfile:\n",
    "        json.dump(activity_counts, outfile)"
   ]
  },
  {
   "cell_type": "code",
   "execution_count": null,
   "metadata": {
    "collapsed": false
   },
   "outputs": [],
   "source": [
    "#Get data on line managers and staff\n",
    "all_relationships = []\n",
    "\n",
    "from time import sleep\n",
    "for count, i in enumerate(all_users):\n",
    "    id = i[\"id\"]\n",
    "    r = requests.get(r'https://www.yammer.com/api/v1/relationships.json?user_id={}'.format(id), headers=header )\n",
    "    e = json.loads(r.text)\n",
    "    all_relationships.append(e)\n",
    "    sleep(1)\n",
    "    print(count)\n",
    "        \n",
    "with open('allrelationships.json', 'w') as outfile:\n",
    "    json.dump(all_relationships, outfile)"
   ]
  }
 ],
 "metadata": {
  "kernelspec": {
   "display_name": "Python 2",
   "language": "python",
   "name": "python2"
  },
  "language_info": {
   "codemirror_mode": {
    "name": "ipython",
    "version": 2
   },
   "file_extension": ".py",
   "mimetype": "text/x-python",
   "name": "python",
   "nbconvert_exporter": "python",
   "pygments_lexer": "ipython2",
   "version": "2.7.6"
  }
 },
 "nbformat": 4,
 "nbformat_minor": 0
}
